{
  "nbformat": 4,
  "nbformat_minor": 0,
  "metadata": {
    "colab": {
      "provenance": [],
      "gpuType": "T4"
    },
    "kernelspec": {
      "name": "python3",
      "display_name": "Python 3"
    },
    "language_info": {
      "name": "python"
    },
    "accelerator": "GPU"
  },
  "cells": [
    {
      "cell_type": "markdown",
      "source": [
        "# Task 1\n",
        "## Statistical Learning with Deep Artificial Neural Networks\n",
        "###  Violeta Basten Romero, Giovanni Dal Mas, Ian Wallgren\n",
        "\n"
      ],
      "metadata": {
        "id": "ssKpV13hYpY5"
      }
    },
    {
      "cell_type": "markdown",
      "source": [
        "In this task, on the basis of the mobile specification like Battery power, 3G enabled , wifi , Bluetooth, Ram, etc, we aim to predict the price range of the mobile. \\\n",
        "\n",
        "In this dataset,\n",
        "columns are:\n",
        "\n",
        "\n",
        "- battery_power: Total energy a battery can store in one time measured in mAh\n",
        "- blue: Has bluetooth or not\n",
        "- clock_speed: speed at which microprocessor executes instructions\n",
        "- dual_sim: Has dual sim support or not\n",
        "- fc: Front Camera mega pixels\n",
        "- four_g: Has 4G or not\n",
        "- int_memory: Internal Memory in Gigabytes\n",
        "- m_dep: Mobile Depth in cm\n",
        "- mobile_wt: Weight of mobile phone\n",
        "- n_cores: Number of cores of processor\n",
        "- pc :Primary Camera mega pixels\n",
        "- px_height: Pixel Resolution Height\n",
        "- px_width: Pixel Resolution Width\n",
        "- ram: Random Access Memory in Megabytes\n",
        "- sc_h: Screen Height of mobile in cm\n",
        "- sc_w: Screen Width of mobile in cm\n",
        "- talk_time: longest time that a single battery charge will last when you are\n",
        "- three_g: Has 3G or not\n",
        "- touch_screen: Has touch screen or not\n",
        "- wifi: Has wifi or not\n",
        "\n",
        "The response variable\n",
        "- price_range: With value of 0(low cost), 1(medium cost), 2(high cost) and (very high cost)."
      ],
      "metadata": {
        "id": "vbNI6i-dY_8W"
      }
    },
    {
      "cell_type": "markdown",
      "source": [
        "##0. Loading libraries and data"
      ],
      "metadata": {
        "id": "-beTB6GIV4pG"
      }
    },
    {
      "cell_type": "code",
      "execution_count": 1,
      "metadata": {
        "id": "mfvvqLISdM7Q",
        "colab": {
          "base_uri": "https://localhost:8080/",
          "height": 17
        },
        "outputId": "2938a1db-6a21-42e3-fcf5-dc1a371a9006"
      },
      "outputs": [
        {
          "output_type": "display_data",
          "data": {
            "text/html": [
              "        <script type=\"text/javascript\">\n",
              "        window.PlotlyConfig = {MathJaxConfig: 'local'};\n",
              "        if (window.MathJax && window.MathJax.Hub && window.MathJax.Hub.Config) {window.MathJax.Hub.Config({SVG: {font: \"STIX-Web\"}});}\n",
              "        if (typeof require !== 'undefined') {\n",
              "        require.undef(\"plotly\");\n",
              "        requirejs.config({\n",
              "            paths: {\n",
              "                'plotly': ['https://cdn.plot.ly/plotly-2.24.1.min']\n",
              "            }\n",
              "        });\n",
              "        require(['plotly'], function(Plotly) {\n",
              "            window._Plotly = Plotly;\n",
              "        });\n",
              "        }\n",
              "        </script>\n",
              "        "
            ]
          },
          "metadata": {}
        }
      ],
      "source": [
        "import pandas as pd\n",
        "\n",
        "import numpy as np\n",
        "from numpy import loadtxt\n",
        "\n",
        "import random\n",
        "\n",
        "import cufflinks as cf\n",
        "cf.go_offline()\n",
        "\n",
        "import tensorflow as tf\n",
        "import keras\n",
        "from keras.models import Sequential, Model\n",
        "from keras.layers import Dense, Dropout, Input, Concatenate\n",
        "\n",
        "from sklearn.model_selection import train_test_split\n",
        "from sklearn.metrics import accuracy_score, precision_score,f1_score\n",
        "from sklearn.preprocessing import MinMaxScaler\n",
        "\n",
        "import tensorflow as tf\n",
        "from keras.layers import Dense, Input, Concatenate\n",
        "from keras.models import Model\n",
        "from keras.optimizers import Adam\n",
        "from keras.losses import sparse_categorical_crossentropy\n",
        "\n",
        "import matplotlib.pyplot as plt"
      ]
    },
    {
      "cell_type": "code",
      "source": [
        "from google.colab import drive\n",
        "drive.mount('/content/drive')\n",
        "\n",
        "path = '/content/drive/MyDrive/Colab Notebooks/mobile.csv'\n",
        "data = pd.read_csv(path, sep = ';')"
      ],
      "metadata": {
        "id": "_c_x5YogXRAE",
        "colab": {
          "base_uri": "https://localhost:8080/"
        },
        "outputId": "1fb23ce1-c2a2-4061-8d2a-594514e10a44"
      },
      "execution_count": 2,
      "outputs": [
        {
          "output_type": "stream",
          "name": "stdout",
          "text": [
            "Drive already mounted at /content/drive; to attempt to forcibly remount, call drive.mount(\"/content/drive\", force_remount=True).\n"
          ]
        }
      ]
    },
    {
      "cell_type": "markdown",
      "source": [
        "##1. Describe mobile dataset. How many observations? How many and what variable types ? Are there missing data?"
      ],
      "metadata": {
        "id": "GCpCZKZfHSpT"
      }
    },
    {
      "cell_type": "markdown",
      "source": [
        "We begin by checking data quality and try to familiarize ourselves with the data set"
      ],
      "metadata": {
        "id": "SpY419ooiF8o"
      }
    },
    {
      "cell_type": "code",
      "source": [
        "def check_missing_data(df,col=int):\n",
        "  n = len(df)\n",
        "  #we don't need to specify how to drop NaNs since we are only looking at one col, doing it for good habits\n",
        "  missing_data = n - len(df.iloc[:,col].dropna(how='all'))\n",
        "  return missing_data\n",
        "\n",
        "columns       = [i for i in range(0,data.shape[1])]\n",
        "missing_data  = pd.DataFrame([check_missing_data(data,x) for x in columns]).set_index(data.columns)\n",
        "missing_data"
      ],
      "metadata": {
        "id": "qOnCd9itiPHQ",
        "colab": {
          "base_uri": "https://localhost:8080/",
          "height": 708
        },
        "outputId": "a49db7d3-4f03-4e6d-9dfb-64692cbf1c94"
      },
      "execution_count": 3,
      "outputs": [
        {
          "output_type": "execute_result",
          "data": {
            "text/plain": [
              "               0\n",
              "battery_power  0\n",
              "blue           0\n",
              "clock_speed    0\n",
              "dual_sim       0\n",
              "fc             0\n",
              "four_g         0\n",
              "int_memory     0\n",
              "m_dep          0\n",
              "mobile_wt      0\n",
              "n_cores        0\n",
              "pc             0\n",
              "px_height      0\n",
              "px_width       0\n",
              "ram            0\n",
              "sc_h           0\n",
              "sc_w           0\n",
              "talk_time      0\n",
              "three_g        0\n",
              "touch_screen   0\n",
              "wifi           0\n",
              "price_range    0"
            ],
            "text/html": [
              "\n",
              "\n",
              "  <div id=\"df-3fc40c0f-bc57-4e6e-8d86-6d71d47c3af2\">\n",
              "    <div class=\"colab-df-container\">\n",
              "      <div>\n",
              "<style scoped>\n",
              "    .dataframe tbody tr th:only-of-type {\n",
              "        vertical-align: middle;\n",
              "    }\n",
              "\n",
              "    .dataframe tbody tr th {\n",
              "        vertical-align: top;\n",
              "    }\n",
              "\n",
              "    .dataframe thead th {\n",
              "        text-align: right;\n",
              "    }\n",
              "</style>\n",
              "<table border=\"1\" class=\"dataframe\">\n",
              "  <thead>\n",
              "    <tr style=\"text-align: right;\">\n",
              "      <th></th>\n",
              "      <th>0</th>\n",
              "    </tr>\n",
              "  </thead>\n",
              "  <tbody>\n",
              "    <tr>\n",
              "      <th>battery_power</th>\n",
              "      <td>0</td>\n",
              "    </tr>\n",
              "    <tr>\n",
              "      <th>blue</th>\n",
              "      <td>0</td>\n",
              "    </tr>\n",
              "    <tr>\n",
              "      <th>clock_speed</th>\n",
              "      <td>0</td>\n",
              "    </tr>\n",
              "    <tr>\n",
              "      <th>dual_sim</th>\n",
              "      <td>0</td>\n",
              "    </tr>\n",
              "    <tr>\n",
              "      <th>fc</th>\n",
              "      <td>0</td>\n",
              "    </tr>\n",
              "    <tr>\n",
              "      <th>four_g</th>\n",
              "      <td>0</td>\n",
              "    </tr>\n",
              "    <tr>\n",
              "      <th>int_memory</th>\n",
              "      <td>0</td>\n",
              "    </tr>\n",
              "    <tr>\n",
              "      <th>m_dep</th>\n",
              "      <td>0</td>\n",
              "    </tr>\n",
              "    <tr>\n",
              "      <th>mobile_wt</th>\n",
              "      <td>0</td>\n",
              "    </tr>\n",
              "    <tr>\n",
              "      <th>n_cores</th>\n",
              "      <td>0</td>\n",
              "    </tr>\n",
              "    <tr>\n",
              "      <th>pc</th>\n",
              "      <td>0</td>\n",
              "    </tr>\n",
              "    <tr>\n",
              "      <th>px_height</th>\n",
              "      <td>0</td>\n",
              "    </tr>\n",
              "    <tr>\n",
              "      <th>px_width</th>\n",
              "      <td>0</td>\n",
              "    </tr>\n",
              "    <tr>\n",
              "      <th>ram</th>\n",
              "      <td>0</td>\n",
              "    </tr>\n",
              "    <tr>\n",
              "      <th>sc_h</th>\n",
              "      <td>0</td>\n",
              "    </tr>\n",
              "    <tr>\n",
              "      <th>sc_w</th>\n",
              "      <td>0</td>\n",
              "    </tr>\n",
              "    <tr>\n",
              "      <th>talk_time</th>\n",
              "      <td>0</td>\n",
              "    </tr>\n",
              "    <tr>\n",
              "      <th>three_g</th>\n",
              "      <td>0</td>\n",
              "    </tr>\n",
              "    <tr>\n",
              "      <th>touch_screen</th>\n",
              "      <td>0</td>\n",
              "    </tr>\n",
              "    <tr>\n",
              "      <th>wifi</th>\n",
              "      <td>0</td>\n",
              "    </tr>\n",
              "    <tr>\n",
              "      <th>price_range</th>\n",
              "      <td>0</td>\n",
              "    </tr>\n",
              "  </tbody>\n",
              "</table>\n",
              "</div>\n",
              "      <button class=\"colab-df-convert\" onclick=\"convertToInteractive('df-3fc40c0f-bc57-4e6e-8d86-6d71d47c3af2')\"\n",
              "              title=\"Convert this dataframe to an interactive table.\"\n",
              "              style=\"display:none;\">\n",
              "\n",
              "  <svg xmlns=\"http://www.w3.org/2000/svg\" height=\"24px\"viewBox=\"0 0 24 24\"\n",
              "       width=\"24px\">\n",
              "    <path d=\"M0 0h24v24H0V0z\" fill=\"none\"/>\n",
              "    <path d=\"M18.56 5.44l.94 2.06.94-2.06 2.06-.94-2.06-.94-.94-2.06-.94 2.06-2.06.94zm-11 1L8.5 8.5l.94-2.06 2.06-.94-2.06-.94L8.5 2.5l-.94 2.06-2.06.94zm10 10l.94 2.06.94-2.06 2.06-.94-2.06-.94-.94-2.06-.94 2.06-2.06.94z\"/><path d=\"M17.41 7.96l-1.37-1.37c-.4-.4-.92-.59-1.43-.59-.52 0-1.04.2-1.43.59L10.3 9.45l-7.72 7.72c-.78.78-.78 2.05 0 2.83L4 21.41c.39.39.9.59 1.41.59.51 0 1.02-.2 1.41-.59l7.78-7.78 2.81-2.81c.8-.78.8-2.07 0-2.86zM5.41 20L4 18.59l7.72-7.72 1.47 1.35L5.41 20z\"/>\n",
              "  </svg>\n",
              "      </button>\n",
              "\n",
              "\n",
              "\n",
              "    <div id=\"df-39b508d4-ddc1-40fb-b606-b957dfab18e3\">\n",
              "      <button class=\"colab-df-quickchart\" onclick=\"quickchart('df-39b508d4-ddc1-40fb-b606-b957dfab18e3')\"\n",
              "              title=\"Suggest charts.\"\n",
              "              style=\"display:none;\">\n",
              "\n",
              "<svg xmlns=\"http://www.w3.org/2000/svg\" height=\"24px\"viewBox=\"0 0 24 24\"\n",
              "     width=\"24px\">\n",
              "    <g>\n",
              "        <path d=\"M19 3H5c-1.1 0-2 .9-2 2v14c0 1.1.9 2 2 2h14c1.1 0 2-.9 2-2V5c0-1.1-.9-2-2-2zM9 17H7v-7h2v7zm4 0h-2V7h2v10zm4 0h-2v-4h2v4z\"/>\n",
              "    </g>\n",
              "</svg>\n",
              "      </button>\n",
              "    </div>\n",
              "\n",
              "<style>\n",
              "  .colab-df-quickchart {\n",
              "    background-color: #E8F0FE;\n",
              "    border: none;\n",
              "    border-radius: 50%;\n",
              "    cursor: pointer;\n",
              "    display: none;\n",
              "    fill: #1967D2;\n",
              "    height: 32px;\n",
              "    padding: 0 0 0 0;\n",
              "    width: 32px;\n",
              "  }\n",
              "\n",
              "  .colab-df-quickchart:hover {\n",
              "    background-color: #E2EBFA;\n",
              "    box-shadow: 0px 1px 2px rgba(60, 64, 67, 0.3), 0px 1px 3px 1px rgba(60, 64, 67, 0.15);\n",
              "    fill: #174EA6;\n",
              "  }\n",
              "\n",
              "  [theme=dark] .colab-df-quickchart {\n",
              "    background-color: #3B4455;\n",
              "    fill: #D2E3FC;\n",
              "  }\n",
              "\n",
              "  [theme=dark] .colab-df-quickchart:hover {\n",
              "    background-color: #434B5C;\n",
              "    box-shadow: 0px 1px 3px 1px rgba(0, 0, 0, 0.15);\n",
              "    filter: drop-shadow(0px 1px 2px rgba(0, 0, 0, 0.3));\n",
              "    fill: #FFFFFF;\n",
              "  }\n",
              "</style>\n",
              "\n",
              "    <script>\n",
              "      async function quickchart(key) {\n",
              "        const containerElement = document.querySelector('#' + key);\n",
              "        const charts = await google.colab.kernel.invokeFunction(\n",
              "            'suggestCharts', [key], {});\n",
              "      }\n",
              "    </script>\n",
              "\n",
              "      <script>\n",
              "\n",
              "function displayQuickchartButton(domScope) {\n",
              "  let quickchartButtonEl =\n",
              "    domScope.querySelector('#df-39b508d4-ddc1-40fb-b606-b957dfab18e3 button.colab-df-quickchart');\n",
              "  quickchartButtonEl.style.display =\n",
              "    google.colab.kernel.accessAllowed ? 'block' : 'none';\n",
              "}\n",
              "\n",
              "        displayQuickchartButton(document);\n",
              "      </script>\n",
              "      <style>\n",
              "    .colab-df-container {\n",
              "      display:flex;\n",
              "      flex-wrap:wrap;\n",
              "      gap: 12px;\n",
              "    }\n",
              "\n",
              "    .colab-df-convert {\n",
              "      background-color: #E8F0FE;\n",
              "      border: none;\n",
              "      border-radius: 50%;\n",
              "      cursor: pointer;\n",
              "      display: none;\n",
              "      fill: #1967D2;\n",
              "      height: 32px;\n",
              "      padding: 0 0 0 0;\n",
              "      width: 32px;\n",
              "    }\n",
              "\n",
              "    .colab-df-convert:hover {\n",
              "      background-color: #E2EBFA;\n",
              "      box-shadow: 0px 1px 2px rgba(60, 64, 67, 0.3), 0px 1px 3px 1px rgba(60, 64, 67, 0.15);\n",
              "      fill: #174EA6;\n",
              "    }\n",
              "\n",
              "    [theme=dark] .colab-df-convert {\n",
              "      background-color: #3B4455;\n",
              "      fill: #D2E3FC;\n",
              "    }\n",
              "\n",
              "    [theme=dark] .colab-df-convert:hover {\n",
              "      background-color: #434B5C;\n",
              "      box-shadow: 0px 1px 3px 1px rgba(0, 0, 0, 0.15);\n",
              "      filter: drop-shadow(0px 1px 2px rgba(0, 0, 0, 0.3));\n",
              "      fill: #FFFFFF;\n",
              "    }\n",
              "  </style>\n",
              "\n",
              "      <script>\n",
              "        const buttonEl =\n",
              "          document.querySelector('#df-3fc40c0f-bc57-4e6e-8d86-6d71d47c3af2 button.colab-df-convert');\n",
              "        buttonEl.style.display =\n",
              "          google.colab.kernel.accessAllowed ? 'block' : 'none';\n",
              "\n",
              "        async function convertToInteractive(key) {\n",
              "          const element = document.querySelector('#df-3fc40c0f-bc57-4e6e-8d86-6d71d47c3af2');\n",
              "          const dataTable =\n",
              "            await google.colab.kernel.invokeFunction('convertToInteractive',\n",
              "                                                     [key], {});\n",
              "          if (!dataTable) return;\n",
              "\n",
              "          const docLinkHtml = 'Like what you see? Visit the ' +\n",
              "            '<a target=\"_blank\" href=https://colab.research.google.com/notebooks/data_table.ipynb>data table notebook</a>'\n",
              "            + ' to learn more about interactive tables.';\n",
              "          element.innerHTML = '';\n",
              "          dataTable['output_type'] = 'display_data';\n",
              "          await google.colab.output.renderOutput(dataTable, element);\n",
              "          const docLink = document.createElement('div');\n",
              "          docLink.innerHTML = docLinkHtml;\n",
              "          element.appendChild(docLink);\n",
              "        }\n",
              "      </script>\n",
              "    </div>\n",
              "  </div>\n"
            ]
          },
          "metadata": {},
          "execution_count": 3
        }
      ]
    },
    {
      "cell_type": "markdown",
      "source": [
        "It seems like there is no missing data\n"
      ],
      "metadata": {
        "id": "Hm1gmuqZmmyS"
      }
    },
    {
      "cell_type": "markdown",
      "source": [
        "In the data set we have 2000 observations, and 22 variables for each of these. There are binary variables(blue, dual_sim, four_g, three_g, touch_screen, wifi), integer (battery_power, fc, int_memory, n_cores, pc, px_height, px_width, ram, sc_h, sc_w, talk_time), and continuous variables (clock_speed, m_dep, mobile_wt). There is also a categorical variables such as the response variable \"price range\", assuming values in a certain interval ∈ Ζ, assigning each observation to a particular group.\n"
      ],
      "metadata": {
        "id": "CkQ6TezTlNgU"
      }
    },
    {
      "cell_type": "code",
      "source": [
        "data.info()"
      ],
      "metadata": {
        "id": "qDa11JlhRvoY",
        "colab": {
          "base_uri": "https://localhost:8080/"
        },
        "outputId": "1570c392-6669-45cf-890f-507dfae651d5"
      },
      "execution_count": 4,
      "outputs": [
        {
          "output_type": "stream",
          "name": "stdout",
          "text": [
            "<class 'pandas.core.frame.DataFrame'>\n",
            "RangeIndex: 2000 entries, 0 to 1999\n",
            "Data columns (total 21 columns):\n",
            " #   Column         Non-Null Count  Dtype  \n",
            "---  ------         --------------  -----  \n",
            " 0   battery_power  2000 non-null   int64  \n",
            " 1   blue           2000 non-null   int64  \n",
            " 2   clock_speed    2000 non-null   float64\n",
            " 3   dual_sim       2000 non-null   int64  \n",
            " 4   fc             2000 non-null   int64  \n",
            " 5   four_g         2000 non-null   int64  \n",
            " 6   int_memory     2000 non-null   int64  \n",
            " 7   m_dep          2000 non-null   float64\n",
            " 8   mobile_wt      2000 non-null   int64  \n",
            " 9   n_cores        2000 non-null   int64  \n",
            " 10  pc             2000 non-null   int64  \n",
            " 11  px_height      2000 non-null   int64  \n",
            " 12  px_width       2000 non-null   int64  \n",
            " 13  ram            2000 non-null   int64  \n",
            " 14  sc_h           2000 non-null   int64  \n",
            " 15  sc_w           2000 non-null   int64  \n",
            " 16  talk_time      2000 non-null   int64  \n",
            " 17  three_g        2000 non-null   int64  \n",
            " 18  touch_screen   2000 non-null   int64  \n",
            " 19  wifi           2000 non-null   int64  \n",
            " 20  price_range    2000 non-null   int64  \n",
            "dtypes: float64(2), int64(19)\n",
            "memory usage: 328.2 KB\n"
          ]
        }
      ]
    },
    {
      "cell_type": "markdown",
      "source": [
        "Let's have a look at the column values"
      ],
      "metadata": {
        "id": "2MxgpceVhnX-"
      }
    },
    {
      "cell_type": "code",
      "source": [
        "data.head()"
      ],
      "metadata": {
        "id": "YvvjjX-BhXoN",
        "colab": {
          "base_uri": "https://localhost:8080/",
          "height": 299
        },
        "outputId": "d65fc737-1e1e-49fa-fc39-299035216ae8"
      },
      "execution_count": 5,
      "outputs": [
        {
          "output_type": "execute_result",
          "data": {
            "text/plain": [
              "   battery_power  blue  clock_speed  dual_sim  fc  four_g  int_memory  m_dep  \\\n",
              "0            842     0          2.2         0   1       0           7    0.6   \n",
              "1           1021     1          0.5         1   0       1          53    0.7   \n",
              "2            563     1          0.5         1   2       1          41    0.9   \n",
              "3            615     1          2.5         0   0       0          10    0.8   \n",
              "4           1821     1          1.2         0  13       1          44    0.6   \n",
              "\n",
              "   mobile_wt  n_cores  ...  px_height  px_width   ram  sc_h  sc_w  talk_time  \\\n",
              "0        188        2  ...         20       756  2549     9     7         19   \n",
              "1        136        3  ...        905      1988  2631    17     3          7   \n",
              "2        145        5  ...       1263      1716  2603    11     2          9   \n",
              "3        131        6  ...       1216      1786  2769    16     8         11   \n",
              "4        141        2  ...       1208      1212  1411     8     2         15   \n",
              "\n",
              "   three_g  touch_screen  wifi  price_range  \n",
              "0        0             0     1            1  \n",
              "1        1             1     0            2  \n",
              "2        1             1     0            2  \n",
              "3        1             0     0            2  \n",
              "4        1             1     0            1  \n",
              "\n",
              "[5 rows x 21 columns]"
            ],
            "text/html": [
              "\n",
              "\n",
              "  <div id=\"df-a4589d1c-35df-4023-8c21-3cd6a028e09d\">\n",
              "    <div class=\"colab-df-container\">\n",
              "      <div>\n",
              "<style scoped>\n",
              "    .dataframe tbody tr th:only-of-type {\n",
              "        vertical-align: middle;\n",
              "    }\n",
              "\n",
              "    .dataframe tbody tr th {\n",
              "        vertical-align: top;\n",
              "    }\n",
              "\n",
              "    .dataframe thead th {\n",
              "        text-align: right;\n",
              "    }\n",
              "</style>\n",
              "<table border=\"1\" class=\"dataframe\">\n",
              "  <thead>\n",
              "    <tr style=\"text-align: right;\">\n",
              "      <th></th>\n",
              "      <th>battery_power</th>\n",
              "      <th>blue</th>\n",
              "      <th>clock_speed</th>\n",
              "      <th>dual_sim</th>\n",
              "      <th>fc</th>\n",
              "      <th>four_g</th>\n",
              "      <th>int_memory</th>\n",
              "      <th>m_dep</th>\n",
              "      <th>mobile_wt</th>\n",
              "      <th>n_cores</th>\n",
              "      <th>...</th>\n",
              "      <th>px_height</th>\n",
              "      <th>px_width</th>\n",
              "      <th>ram</th>\n",
              "      <th>sc_h</th>\n",
              "      <th>sc_w</th>\n",
              "      <th>talk_time</th>\n",
              "      <th>three_g</th>\n",
              "      <th>touch_screen</th>\n",
              "      <th>wifi</th>\n",
              "      <th>price_range</th>\n",
              "    </tr>\n",
              "  </thead>\n",
              "  <tbody>\n",
              "    <tr>\n",
              "      <th>0</th>\n",
              "      <td>842</td>\n",
              "      <td>0</td>\n",
              "      <td>2.2</td>\n",
              "      <td>0</td>\n",
              "      <td>1</td>\n",
              "      <td>0</td>\n",
              "      <td>7</td>\n",
              "      <td>0.6</td>\n",
              "      <td>188</td>\n",
              "      <td>2</td>\n",
              "      <td>...</td>\n",
              "      <td>20</td>\n",
              "      <td>756</td>\n",
              "      <td>2549</td>\n",
              "      <td>9</td>\n",
              "      <td>7</td>\n",
              "      <td>19</td>\n",
              "      <td>0</td>\n",
              "      <td>0</td>\n",
              "      <td>1</td>\n",
              "      <td>1</td>\n",
              "    </tr>\n",
              "    <tr>\n",
              "      <th>1</th>\n",
              "      <td>1021</td>\n",
              "      <td>1</td>\n",
              "      <td>0.5</td>\n",
              "      <td>1</td>\n",
              "      <td>0</td>\n",
              "      <td>1</td>\n",
              "      <td>53</td>\n",
              "      <td>0.7</td>\n",
              "      <td>136</td>\n",
              "      <td>3</td>\n",
              "      <td>...</td>\n",
              "      <td>905</td>\n",
              "      <td>1988</td>\n",
              "      <td>2631</td>\n",
              "      <td>17</td>\n",
              "      <td>3</td>\n",
              "      <td>7</td>\n",
              "      <td>1</td>\n",
              "      <td>1</td>\n",
              "      <td>0</td>\n",
              "      <td>2</td>\n",
              "    </tr>\n",
              "    <tr>\n",
              "      <th>2</th>\n",
              "      <td>563</td>\n",
              "      <td>1</td>\n",
              "      <td>0.5</td>\n",
              "      <td>1</td>\n",
              "      <td>2</td>\n",
              "      <td>1</td>\n",
              "      <td>41</td>\n",
              "      <td>0.9</td>\n",
              "      <td>145</td>\n",
              "      <td>5</td>\n",
              "      <td>...</td>\n",
              "      <td>1263</td>\n",
              "      <td>1716</td>\n",
              "      <td>2603</td>\n",
              "      <td>11</td>\n",
              "      <td>2</td>\n",
              "      <td>9</td>\n",
              "      <td>1</td>\n",
              "      <td>1</td>\n",
              "      <td>0</td>\n",
              "      <td>2</td>\n",
              "    </tr>\n",
              "    <tr>\n",
              "      <th>3</th>\n",
              "      <td>615</td>\n",
              "      <td>1</td>\n",
              "      <td>2.5</td>\n",
              "      <td>0</td>\n",
              "      <td>0</td>\n",
              "      <td>0</td>\n",
              "      <td>10</td>\n",
              "      <td>0.8</td>\n",
              "      <td>131</td>\n",
              "      <td>6</td>\n",
              "      <td>...</td>\n",
              "      <td>1216</td>\n",
              "      <td>1786</td>\n",
              "      <td>2769</td>\n",
              "      <td>16</td>\n",
              "      <td>8</td>\n",
              "      <td>11</td>\n",
              "      <td>1</td>\n",
              "      <td>0</td>\n",
              "      <td>0</td>\n",
              "      <td>2</td>\n",
              "    </tr>\n",
              "    <tr>\n",
              "      <th>4</th>\n",
              "      <td>1821</td>\n",
              "      <td>1</td>\n",
              "      <td>1.2</td>\n",
              "      <td>0</td>\n",
              "      <td>13</td>\n",
              "      <td>1</td>\n",
              "      <td>44</td>\n",
              "      <td>0.6</td>\n",
              "      <td>141</td>\n",
              "      <td>2</td>\n",
              "      <td>...</td>\n",
              "      <td>1208</td>\n",
              "      <td>1212</td>\n",
              "      <td>1411</td>\n",
              "      <td>8</td>\n",
              "      <td>2</td>\n",
              "      <td>15</td>\n",
              "      <td>1</td>\n",
              "      <td>1</td>\n",
              "      <td>0</td>\n",
              "      <td>1</td>\n",
              "    </tr>\n",
              "  </tbody>\n",
              "</table>\n",
              "<p>5 rows × 21 columns</p>\n",
              "</div>\n",
              "      <button class=\"colab-df-convert\" onclick=\"convertToInteractive('df-a4589d1c-35df-4023-8c21-3cd6a028e09d')\"\n",
              "              title=\"Convert this dataframe to an interactive table.\"\n",
              "              style=\"display:none;\">\n",
              "\n",
              "  <svg xmlns=\"http://www.w3.org/2000/svg\" height=\"24px\"viewBox=\"0 0 24 24\"\n",
              "       width=\"24px\">\n",
              "    <path d=\"M0 0h24v24H0V0z\" fill=\"none\"/>\n",
              "    <path d=\"M18.56 5.44l.94 2.06.94-2.06 2.06-.94-2.06-.94-.94-2.06-.94 2.06-2.06.94zm-11 1L8.5 8.5l.94-2.06 2.06-.94-2.06-.94L8.5 2.5l-.94 2.06-2.06.94zm10 10l.94 2.06.94-2.06 2.06-.94-2.06-.94-.94-2.06-.94 2.06-2.06.94z\"/><path d=\"M17.41 7.96l-1.37-1.37c-.4-.4-.92-.59-1.43-.59-.52 0-1.04.2-1.43.59L10.3 9.45l-7.72 7.72c-.78.78-.78 2.05 0 2.83L4 21.41c.39.39.9.59 1.41.59.51 0 1.02-.2 1.41-.59l7.78-7.78 2.81-2.81c.8-.78.8-2.07 0-2.86zM5.41 20L4 18.59l7.72-7.72 1.47 1.35L5.41 20z\"/>\n",
              "  </svg>\n",
              "      </button>\n",
              "\n",
              "\n",
              "\n",
              "    <div id=\"df-ff4bb27f-fd23-4dd3-8793-9a9a59016838\">\n",
              "      <button class=\"colab-df-quickchart\" onclick=\"quickchart('df-ff4bb27f-fd23-4dd3-8793-9a9a59016838')\"\n",
              "              title=\"Suggest charts.\"\n",
              "              style=\"display:none;\">\n",
              "\n",
              "<svg xmlns=\"http://www.w3.org/2000/svg\" height=\"24px\"viewBox=\"0 0 24 24\"\n",
              "     width=\"24px\">\n",
              "    <g>\n",
              "        <path d=\"M19 3H5c-1.1 0-2 .9-2 2v14c0 1.1.9 2 2 2h14c1.1 0 2-.9 2-2V5c0-1.1-.9-2-2-2zM9 17H7v-7h2v7zm4 0h-2V7h2v10zm4 0h-2v-4h2v4z\"/>\n",
              "    </g>\n",
              "</svg>\n",
              "      </button>\n",
              "    </div>\n",
              "\n",
              "<style>\n",
              "  .colab-df-quickchart {\n",
              "    background-color: #E8F0FE;\n",
              "    border: none;\n",
              "    border-radius: 50%;\n",
              "    cursor: pointer;\n",
              "    display: none;\n",
              "    fill: #1967D2;\n",
              "    height: 32px;\n",
              "    padding: 0 0 0 0;\n",
              "    width: 32px;\n",
              "  }\n",
              "\n",
              "  .colab-df-quickchart:hover {\n",
              "    background-color: #E2EBFA;\n",
              "    box-shadow: 0px 1px 2px rgba(60, 64, 67, 0.3), 0px 1px 3px 1px rgba(60, 64, 67, 0.15);\n",
              "    fill: #174EA6;\n",
              "  }\n",
              "\n",
              "  [theme=dark] .colab-df-quickchart {\n",
              "    background-color: #3B4455;\n",
              "    fill: #D2E3FC;\n",
              "  }\n",
              "\n",
              "  [theme=dark] .colab-df-quickchart:hover {\n",
              "    background-color: #434B5C;\n",
              "    box-shadow: 0px 1px 3px 1px rgba(0, 0, 0, 0.15);\n",
              "    filter: drop-shadow(0px 1px 2px rgba(0, 0, 0, 0.3));\n",
              "    fill: #FFFFFF;\n",
              "  }\n",
              "</style>\n",
              "\n",
              "    <script>\n",
              "      async function quickchart(key) {\n",
              "        const containerElement = document.querySelector('#' + key);\n",
              "        const charts = await google.colab.kernel.invokeFunction(\n",
              "            'suggestCharts', [key], {});\n",
              "      }\n",
              "    </script>\n",
              "\n",
              "      <script>\n",
              "\n",
              "function displayQuickchartButton(domScope) {\n",
              "  let quickchartButtonEl =\n",
              "    domScope.querySelector('#df-ff4bb27f-fd23-4dd3-8793-9a9a59016838 button.colab-df-quickchart');\n",
              "  quickchartButtonEl.style.display =\n",
              "    google.colab.kernel.accessAllowed ? 'block' : 'none';\n",
              "}\n",
              "\n",
              "        displayQuickchartButton(document);\n",
              "      </script>\n",
              "      <style>\n",
              "    .colab-df-container {\n",
              "      display:flex;\n",
              "      flex-wrap:wrap;\n",
              "      gap: 12px;\n",
              "    }\n",
              "\n",
              "    .colab-df-convert {\n",
              "      background-color: #E8F0FE;\n",
              "      border: none;\n",
              "      border-radius: 50%;\n",
              "      cursor: pointer;\n",
              "      display: none;\n",
              "      fill: #1967D2;\n",
              "      height: 32px;\n",
              "      padding: 0 0 0 0;\n",
              "      width: 32px;\n",
              "    }\n",
              "\n",
              "    .colab-df-convert:hover {\n",
              "      background-color: #E2EBFA;\n",
              "      box-shadow: 0px 1px 2px rgba(60, 64, 67, 0.3), 0px 1px 3px 1px rgba(60, 64, 67, 0.15);\n",
              "      fill: #174EA6;\n",
              "    }\n",
              "\n",
              "    [theme=dark] .colab-df-convert {\n",
              "      background-color: #3B4455;\n",
              "      fill: #D2E3FC;\n",
              "    }\n",
              "\n",
              "    [theme=dark] .colab-df-convert:hover {\n",
              "      background-color: #434B5C;\n",
              "      box-shadow: 0px 1px 3px 1px rgba(0, 0, 0, 0.15);\n",
              "      filter: drop-shadow(0px 1px 2px rgba(0, 0, 0, 0.3));\n",
              "      fill: #FFFFFF;\n",
              "    }\n",
              "  </style>\n",
              "\n",
              "      <script>\n",
              "        const buttonEl =\n",
              "          document.querySelector('#df-a4589d1c-35df-4023-8c21-3cd6a028e09d button.colab-df-convert');\n",
              "        buttonEl.style.display =\n",
              "          google.colab.kernel.accessAllowed ? 'block' : 'none';\n",
              "\n",
              "        async function convertToInteractive(key) {\n",
              "          const element = document.querySelector('#df-a4589d1c-35df-4023-8c21-3cd6a028e09d');\n",
              "          const dataTable =\n",
              "            await google.colab.kernel.invokeFunction('convertToInteractive',\n",
              "                                                     [key], {});\n",
              "          if (!dataTable) return;\n",
              "\n",
              "          const docLinkHtml = 'Like what you see? Visit the ' +\n",
              "            '<a target=\"_blank\" href=https://colab.research.google.com/notebooks/data_table.ipynb>data table notebook</a>'\n",
              "            + ' to learn more about interactive tables.';\n",
              "          element.innerHTML = '';\n",
              "          dataTable['output_type'] = 'display_data';\n",
              "          await google.colab.output.renderOutput(dataTable, element);\n",
              "          const docLink = document.createElement('div');\n",
              "          docLink.innerHTML = docLinkHtml;\n",
              "          element.appendChild(docLink);\n",
              "        }\n",
              "      </script>\n",
              "    </div>\n",
              "  </div>\n"
            ]
          },
          "metadata": {},
          "execution_count": 5
        }
      ]
    },
    {
      "cell_type": "markdown",
      "source": [
        "Clearly, the variables need to be normalized in order for us to be able to compare them with eachother. We use the MinMaxScaler."
      ],
      "metadata": {
        "id": "tIoDjQ_Whu0a"
      }
    },
    {
      "cell_type": "code",
      "source": [
        "#Normalization\n",
        "scaler = MinMaxScaler()\n",
        "\n",
        "mobile = pd.DataFrame(scaler.fit_transform(data),\n",
        "            columns=data.columns, index=data.index)\n",
        "\n",
        "mobile.head()"
      ],
      "metadata": {
        "id": "yW-CnK9lkk82",
        "colab": {
          "base_uri": "https://localhost:8080/",
          "height": 299
        },
        "outputId": "d98abdd3-54f9-4df5-f201-122b39fd4d0e"
      },
      "execution_count": 6,
      "outputs": [
        {
          "output_type": "execute_result",
          "data": {
            "text/plain": [
              "   battery_power  blue  clock_speed  dual_sim        fc  four_g  int_memory  \\\n",
              "0       0.227789   0.0         0.68       0.0  0.052632     0.0    0.080645   \n",
              "1       0.347361   1.0         0.00       1.0  0.000000     1.0    0.822581   \n",
              "2       0.041416   1.0         0.00       1.0  0.105263     1.0    0.629032   \n",
              "3       0.076152   1.0         0.80       0.0  0.000000     0.0    0.129032   \n",
              "4       0.881764   1.0         0.28       0.0  0.684211     1.0    0.677419   \n",
              "\n",
              "      m_dep  mobile_wt   n_cores  ...  px_height  px_width       ram  \\\n",
              "0  0.555556   0.900000  0.142857  ...   0.010204  0.170895  0.612774   \n",
              "1  0.666667   0.466667  0.285714  ...   0.461735  0.993324  0.634687   \n",
              "2  0.888889   0.541667  0.571429  ...   0.644388  0.811749  0.627205   \n",
              "3  0.777778   0.425000  0.714286  ...   0.620408  0.858478  0.671566   \n",
              "4  0.555556   0.508333  0.142857  ...   0.616327  0.475300  0.308658   \n",
              "\n",
              "       sc_h      sc_w  talk_time  three_g  touch_screen  wifi  price_range  \n",
              "0  0.285714  0.388889   0.944444      0.0           0.0   1.0     0.333333  \n",
              "1  0.857143  0.166667   0.277778      1.0           1.0   0.0     0.666667  \n",
              "2  0.428571  0.111111   0.388889      1.0           1.0   0.0     0.666667  \n",
              "3  0.785714  0.444444   0.500000      1.0           0.0   0.0     0.666667  \n",
              "4  0.214286  0.111111   0.722222      1.0           1.0   0.0     0.333333  \n",
              "\n",
              "[5 rows x 21 columns]"
            ],
            "text/html": [
              "\n",
              "\n",
              "  <div id=\"df-3bb9a829-9259-4e92-8ab8-01a5c987e7f7\">\n",
              "    <div class=\"colab-df-container\">\n",
              "      <div>\n",
              "<style scoped>\n",
              "    .dataframe tbody tr th:only-of-type {\n",
              "        vertical-align: middle;\n",
              "    }\n",
              "\n",
              "    .dataframe tbody tr th {\n",
              "        vertical-align: top;\n",
              "    }\n",
              "\n",
              "    .dataframe thead th {\n",
              "        text-align: right;\n",
              "    }\n",
              "</style>\n",
              "<table border=\"1\" class=\"dataframe\">\n",
              "  <thead>\n",
              "    <tr style=\"text-align: right;\">\n",
              "      <th></th>\n",
              "      <th>battery_power</th>\n",
              "      <th>blue</th>\n",
              "      <th>clock_speed</th>\n",
              "      <th>dual_sim</th>\n",
              "      <th>fc</th>\n",
              "      <th>four_g</th>\n",
              "      <th>int_memory</th>\n",
              "      <th>m_dep</th>\n",
              "      <th>mobile_wt</th>\n",
              "      <th>n_cores</th>\n",
              "      <th>...</th>\n",
              "      <th>px_height</th>\n",
              "      <th>px_width</th>\n",
              "      <th>ram</th>\n",
              "      <th>sc_h</th>\n",
              "      <th>sc_w</th>\n",
              "      <th>talk_time</th>\n",
              "      <th>three_g</th>\n",
              "      <th>touch_screen</th>\n",
              "      <th>wifi</th>\n",
              "      <th>price_range</th>\n",
              "    </tr>\n",
              "  </thead>\n",
              "  <tbody>\n",
              "    <tr>\n",
              "      <th>0</th>\n",
              "      <td>0.227789</td>\n",
              "      <td>0.0</td>\n",
              "      <td>0.68</td>\n",
              "      <td>0.0</td>\n",
              "      <td>0.052632</td>\n",
              "      <td>0.0</td>\n",
              "      <td>0.080645</td>\n",
              "      <td>0.555556</td>\n",
              "      <td>0.900000</td>\n",
              "      <td>0.142857</td>\n",
              "      <td>...</td>\n",
              "      <td>0.010204</td>\n",
              "      <td>0.170895</td>\n",
              "      <td>0.612774</td>\n",
              "      <td>0.285714</td>\n",
              "      <td>0.388889</td>\n",
              "      <td>0.944444</td>\n",
              "      <td>0.0</td>\n",
              "      <td>0.0</td>\n",
              "      <td>1.0</td>\n",
              "      <td>0.333333</td>\n",
              "    </tr>\n",
              "    <tr>\n",
              "      <th>1</th>\n",
              "      <td>0.347361</td>\n",
              "      <td>1.0</td>\n",
              "      <td>0.00</td>\n",
              "      <td>1.0</td>\n",
              "      <td>0.000000</td>\n",
              "      <td>1.0</td>\n",
              "      <td>0.822581</td>\n",
              "      <td>0.666667</td>\n",
              "      <td>0.466667</td>\n",
              "      <td>0.285714</td>\n",
              "      <td>...</td>\n",
              "      <td>0.461735</td>\n",
              "      <td>0.993324</td>\n",
              "      <td>0.634687</td>\n",
              "      <td>0.857143</td>\n",
              "      <td>0.166667</td>\n",
              "      <td>0.277778</td>\n",
              "      <td>1.0</td>\n",
              "      <td>1.0</td>\n",
              "      <td>0.0</td>\n",
              "      <td>0.666667</td>\n",
              "    </tr>\n",
              "    <tr>\n",
              "      <th>2</th>\n",
              "      <td>0.041416</td>\n",
              "      <td>1.0</td>\n",
              "      <td>0.00</td>\n",
              "      <td>1.0</td>\n",
              "      <td>0.105263</td>\n",
              "      <td>1.0</td>\n",
              "      <td>0.629032</td>\n",
              "      <td>0.888889</td>\n",
              "      <td>0.541667</td>\n",
              "      <td>0.571429</td>\n",
              "      <td>...</td>\n",
              "      <td>0.644388</td>\n",
              "      <td>0.811749</td>\n",
              "      <td>0.627205</td>\n",
              "      <td>0.428571</td>\n",
              "      <td>0.111111</td>\n",
              "      <td>0.388889</td>\n",
              "      <td>1.0</td>\n",
              "      <td>1.0</td>\n",
              "      <td>0.0</td>\n",
              "      <td>0.666667</td>\n",
              "    </tr>\n",
              "    <tr>\n",
              "      <th>3</th>\n",
              "      <td>0.076152</td>\n",
              "      <td>1.0</td>\n",
              "      <td>0.80</td>\n",
              "      <td>0.0</td>\n",
              "      <td>0.000000</td>\n",
              "      <td>0.0</td>\n",
              "      <td>0.129032</td>\n",
              "      <td>0.777778</td>\n",
              "      <td>0.425000</td>\n",
              "      <td>0.714286</td>\n",
              "      <td>...</td>\n",
              "      <td>0.620408</td>\n",
              "      <td>0.858478</td>\n",
              "      <td>0.671566</td>\n",
              "      <td>0.785714</td>\n",
              "      <td>0.444444</td>\n",
              "      <td>0.500000</td>\n",
              "      <td>1.0</td>\n",
              "      <td>0.0</td>\n",
              "      <td>0.0</td>\n",
              "      <td>0.666667</td>\n",
              "    </tr>\n",
              "    <tr>\n",
              "      <th>4</th>\n",
              "      <td>0.881764</td>\n",
              "      <td>1.0</td>\n",
              "      <td>0.28</td>\n",
              "      <td>0.0</td>\n",
              "      <td>0.684211</td>\n",
              "      <td>1.0</td>\n",
              "      <td>0.677419</td>\n",
              "      <td>0.555556</td>\n",
              "      <td>0.508333</td>\n",
              "      <td>0.142857</td>\n",
              "      <td>...</td>\n",
              "      <td>0.616327</td>\n",
              "      <td>0.475300</td>\n",
              "      <td>0.308658</td>\n",
              "      <td>0.214286</td>\n",
              "      <td>0.111111</td>\n",
              "      <td>0.722222</td>\n",
              "      <td>1.0</td>\n",
              "      <td>1.0</td>\n",
              "      <td>0.0</td>\n",
              "      <td>0.333333</td>\n",
              "    </tr>\n",
              "  </tbody>\n",
              "</table>\n",
              "<p>5 rows × 21 columns</p>\n",
              "</div>\n",
              "      <button class=\"colab-df-convert\" onclick=\"convertToInteractive('df-3bb9a829-9259-4e92-8ab8-01a5c987e7f7')\"\n",
              "              title=\"Convert this dataframe to an interactive table.\"\n",
              "              style=\"display:none;\">\n",
              "\n",
              "  <svg xmlns=\"http://www.w3.org/2000/svg\" height=\"24px\"viewBox=\"0 0 24 24\"\n",
              "       width=\"24px\">\n",
              "    <path d=\"M0 0h24v24H0V0z\" fill=\"none\"/>\n",
              "    <path d=\"M18.56 5.44l.94 2.06.94-2.06 2.06-.94-2.06-.94-.94-2.06-.94 2.06-2.06.94zm-11 1L8.5 8.5l.94-2.06 2.06-.94-2.06-.94L8.5 2.5l-.94 2.06-2.06.94zm10 10l.94 2.06.94-2.06 2.06-.94-2.06-.94-.94-2.06-.94 2.06-2.06.94z\"/><path d=\"M17.41 7.96l-1.37-1.37c-.4-.4-.92-.59-1.43-.59-.52 0-1.04.2-1.43.59L10.3 9.45l-7.72 7.72c-.78.78-.78 2.05 0 2.83L4 21.41c.39.39.9.59 1.41.59.51 0 1.02-.2 1.41-.59l7.78-7.78 2.81-2.81c.8-.78.8-2.07 0-2.86zM5.41 20L4 18.59l7.72-7.72 1.47 1.35L5.41 20z\"/>\n",
              "  </svg>\n",
              "      </button>\n",
              "\n",
              "\n",
              "\n",
              "    <div id=\"df-9237bae4-cc28-4e3a-b72f-cd0d1b0f1836\">\n",
              "      <button class=\"colab-df-quickchart\" onclick=\"quickchart('df-9237bae4-cc28-4e3a-b72f-cd0d1b0f1836')\"\n",
              "              title=\"Suggest charts.\"\n",
              "              style=\"display:none;\">\n",
              "\n",
              "<svg xmlns=\"http://www.w3.org/2000/svg\" height=\"24px\"viewBox=\"0 0 24 24\"\n",
              "     width=\"24px\">\n",
              "    <g>\n",
              "        <path d=\"M19 3H5c-1.1 0-2 .9-2 2v14c0 1.1.9 2 2 2h14c1.1 0 2-.9 2-2V5c0-1.1-.9-2-2-2zM9 17H7v-7h2v7zm4 0h-2V7h2v10zm4 0h-2v-4h2v4z\"/>\n",
              "    </g>\n",
              "</svg>\n",
              "      </button>\n",
              "    </div>\n",
              "\n",
              "<style>\n",
              "  .colab-df-quickchart {\n",
              "    background-color: #E8F0FE;\n",
              "    border: none;\n",
              "    border-radius: 50%;\n",
              "    cursor: pointer;\n",
              "    display: none;\n",
              "    fill: #1967D2;\n",
              "    height: 32px;\n",
              "    padding: 0 0 0 0;\n",
              "    width: 32px;\n",
              "  }\n",
              "\n",
              "  .colab-df-quickchart:hover {\n",
              "    background-color: #E2EBFA;\n",
              "    box-shadow: 0px 1px 2px rgba(60, 64, 67, 0.3), 0px 1px 3px 1px rgba(60, 64, 67, 0.15);\n",
              "    fill: #174EA6;\n",
              "  }\n",
              "\n",
              "  [theme=dark] .colab-df-quickchart {\n",
              "    background-color: #3B4455;\n",
              "    fill: #D2E3FC;\n",
              "  }\n",
              "\n",
              "  [theme=dark] .colab-df-quickchart:hover {\n",
              "    background-color: #434B5C;\n",
              "    box-shadow: 0px 1px 3px 1px rgba(0, 0, 0, 0.15);\n",
              "    filter: drop-shadow(0px 1px 2px rgba(0, 0, 0, 0.3));\n",
              "    fill: #FFFFFF;\n",
              "  }\n",
              "</style>\n",
              "\n",
              "    <script>\n",
              "      async function quickchart(key) {\n",
              "        const containerElement = document.querySelector('#' + key);\n",
              "        const charts = await google.colab.kernel.invokeFunction(\n",
              "            'suggestCharts', [key], {});\n",
              "      }\n",
              "    </script>\n",
              "\n",
              "      <script>\n",
              "\n",
              "function displayQuickchartButton(domScope) {\n",
              "  let quickchartButtonEl =\n",
              "    domScope.querySelector('#df-9237bae4-cc28-4e3a-b72f-cd0d1b0f1836 button.colab-df-quickchart');\n",
              "  quickchartButtonEl.style.display =\n",
              "    google.colab.kernel.accessAllowed ? 'block' : 'none';\n",
              "}\n",
              "\n",
              "        displayQuickchartButton(document);\n",
              "      </script>\n",
              "      <style>\n",
              "    .colab-df-container {\n",
              "      display:flex;\n",
              "      flex-wrap:wrap;\n",
              "      gap: 12px;\n",
              "    }\n",
              "\n",
              "    .colab-df-convert {\n",
              "      background-color: #E8F0FE;\n",
              "      border: none;\n",
              "      border-radius: 50%;\n",
              "      cursor: pointer;\n",
              "      display: none;\n",
              "      fill: #1967D2;\n",
              "      height: 32px;\n",
              "      padding: 0 0 0 0;\n",
              "      width: 32px;\n",
              "    }\n",
              "\n",
              "    .colab-df-convert:hover {\n",
              "      background-color: #E2EBFA;\n",
              "      box-shadow: 0px 1px 2px rgba(60, 64, 67, 0.3), 0px 1px 3px 1px rgba(60, 64, 67, 0.15);\n",
              "      fill: #174EA6;\n",
              "    }\n",
              "\n",
              "    [theme=dark] .colab-df-convert {\n",
              "      background-color: #3B4455;\n",
              "      fill: #D2E3FC;\n",
              "    }\n",
              "\n",
              "    [theme=dark] .colab-df-convert:hover {\n",
              "      background-color: #434B5C;\n",
              "      box-shadow: 0px 1px 3px 1px rgba(0, 0, 0, 0.15);\n",
              "      filter: drop-shadow(0px 1px 2px rgba(0, 0, 0, 0.3));\n",
              "      fill: #FFFFFF;\n",
              "    }\n",
              "  </style>\n",
              "\n",
              "      <script>\n",
              "        const buttonEl =\n",
              "          document.querySelector('#df-3bb9a829-9259-4e92-8ab8-01a5c987e7f7 button.colab-df-convert');\n",
              "        buttonEl.style.display =\n",
              "          google.colab.kernel.accessAllowed ? 'block' : 'none';\n",
              "\n",
              "        async function convertToInteractive(key) {\n",
              "          const element = document.querySelector('#df-3bb9a829-9259-4e92-8ab8-01a5c987e7f7');\n",
              "          const dataTable =\n",
              "            await google.colab.kernel.invokeFunction('convertToInteractive',\n",
              "                                                     [key], {});\n",
              "          if (!dataTable) return;\n",
              "\n",
              "          const docLinkHtml = 'Like what you see? Visit the ' +\n",
              "            '<a target=\"_blank\" href=https://colab.research.google.com/notebooks/data_table.ipynb>data table notebook</a>'\n",
              "            + ' to learn more about interactive tables.';\n",
              "          element.innerHTML = '';\n",
              "          dataTable['output_type'] = 'display_data';\n",
              "          await google.colab.output.renderOutput(dataTable, element);\n",
              "          const docLink = document.createElement('div');\n",
              "          docLink.innerHTML = docLinkHtml;\n",
              "          element.appendChild(docLink);\n",
              "        }\n",
              "      </script>\n",
              "    </div>\n",
              "  </div>\n"
            ]
          },
          "metadata": {},
          "execution_count": 6
        }
      ]
    },
    {
      "cell_type": "markdown",
      "source": [
        "Better."
      ],
      "metadata": {
        "id": "G_WTP5BKVzfT"
      }
    },
    {
      "cell_type": "markdown",
      "source": [
        "##2. Split the dataset in 2/3 of training and 1/3 of test."
      ],
      "metadata": {
        "id": "mUCqiSYjZd_U"
      }
    },
    {
      "cell_type": "markdown",
      "source": [
        "We proceed to split the dataset in train and test set"
      ],
      "metadata": {
        "id": "QwtyQK6BnngN"
      }
    },
    {
      "cell_type": "code",
      "source": [
        "X = mobile.drop(columns='price_range')\n",
        "y = mobile[['price_range']]\n",
        "\n",
        "#Split the data\n",
        "X_train, X_test_1, y_train, y_test_1 = train_test_split(X, y, test_size=1/3, random_state=42)"
      ],
      "metadata": {
        "id": "p6gkyfU4Z2Az"
      },
      "execution_count": 7,
      "outputs": []
    },
    {
      "cell_type": "markdown",
      "source": [
        "We perform an additional split to create a validation set from the test set, in order to use it to tune our hyperparameters n (nodes) and d (amount of callback). We use the 30% of the test set."
      ],
      "metadata": {
        "id": "CRqrZLBV2XhK"
      }
    },
    {
      "cell_type": "code",
      "source": [
        "#Split the data\n",
        "X_test, X_val, y_test, y_val = train_test_split(X_test_1, y_test_1, test_size=0.3, random_state=42)"
      ],
      "metadata": {
        "id": "vmQtSC7Z0XuB"
      },
      "execution_count": 8,
      "outputs": []
    },
    {
      "cell_type": "markdown",
      "source": [
        "##3. Taking only the numerical variables, fit a dense neural network (DNN) to predict the price_range.\n",
        "We define the DNN with a single hidden layer with n nodes and d amount of dropout."
      ],
      "metadata": {
        "id": "MXTWPYzdpPx1"
      }
    },
    {
      "cell_type": "code",
      "source": [
        "# Separate data\n",
        "# Numerical variables\n",
        "num_vars = ['battery_power','clock_speed','fc','int_memory','m_dep','mobile_wt','n_cores','pc',\n",
        "            'px_height','px_width','ram','sc_h','sc_w', 'talk_time']\n",
        "X_train_numerical = X_train[num_vars]\n",
        "X_val_numerical = X_val[num_vars]\n",
        "X_test_numerical = X_test[num_vars]"
      ],
      "metadata": {
        "id": "REATap7Y-YOs"
      },
      "execution_count": 9,
      "outputs": []
    },
    {
      "cell_type": "code",
      "source": [
        "# Convert the training, validation and testing data to numpy arrays\n",
        "X_train_numerical = X_train_numerical.values.astype(float)\n",
        "X_val_numerical = X_val_numerical.values.astype(float)\n",
        "X_test_numerical = X_test_numerical.values.astype(float)\n",
        "\n",
        "y_train = y_train.values.astype(float)\n",
        "y_val = y_val.values.astype(float)\n",
        "y_test = y_test.values.astype(float)\n",
        "\n",
        "# Convert the response variable to categorical data\n",
        "y_train = keras.utils.to_categorical(y_train, num_classes=4)\n",
        "y_val = keras.utils.to_categorical(y_val, num_classes=4)\n",
        "y_test= keras.utils.to_categorical(y_test, num_classes=4)"
      ],
      "metadata": {
        "id": "SWX9uzL07JFI"
      },
      "execution_count": 10,
      "outputs": []
    },
    {
      "cell_type": "markdown",
      "source": [
        "We define a DNN_model function in order to perform faster the hyperparameter tuning"
      ],
      "metadata": {
        "id": "rzBzf64hTsI0"
      }
    },
    {
      "cell_type": "code",
      "source": [
        "random.seed(42)\n",
        "# It contains the length of the input shape to the first layer below\n",
        "input_shape_n = len(num_vars)\n",
        "\n",
        "# Define a function DNN_model to build and train the DNN with a single hidden layer\n",
        "def DNN_model(n, d):\n",
        "    model = Sequential()\n",
        "    model.add(Dense(n, input_shape=(input_shape_n,), activation='relu'))\n",
        "    model.add(Dropout(d))\n",
        "    model.add(Dense(4,activation='sigmoid'))\n",
        "\n",
        "    #now we compile our model\n",
        "    #since we have a multiple different classes in our response variable, we choose categorical crossentropy as our loss function\n",
        "    model.compile(optimizer='rmsprop',\n",
        "              loss='categorical_crossentropy',\n",
        "              metrics=['accuracy'])\n",
        "    #fit model\n",
        "    #verbose = 0 no output of progress (3/4 of the pdf would be just this)\n",
        "    model_fitted = model.fit(x=X_train_numerical,y=y_train,\n",
        "          batch_size=64,\n",
        "          epochs=50,\n",
        "          validation_data=(X_val_numerical, y_val),\n",
        "          verbose=0)\n",
        "\n",
        "    validation_accuracy = model_fitted.history['val_accuracy'][-1]\n",
        "\n",
        "    return (validation_accuracy, model_fitted)\n",
        "\n"
      ],
      "metadata": {
        "id": "q6bSyOigyyXZ"
      },
      "execution_count": 11,
      "outputs": []
    },
    {
      "cell_type": "markdown",
      "source": [
        "Hyperparameter tuning using Random Search. We also set a seed to reproducibility."
      ],
      "metadata": {
        "id": "77oReYFx0df5"
      }
    },
    {
      "cell_type": "code",
      "source": [
        "random.seed(42)\n",
        "# Perform hyperparameter tuning using random search\n",
        "n_values = [5, 8, 10] # Possible values of n\n",
        "d_values = [0.2, 0.4] # Possible values of d\n",
        "num_samples = 20 # Number of random hyperparameter combinations to try\n",
        "results = [] # List to store the validation accuracy for each set of hyperparameters\n",
        "for i in range(num_samples):\n",
        "    # Randomly select values of n and d\n",
        "    n = np.random.choice(n_values)\n",
        "    d = np.random.choice(d_values)\n",
        "    # Train the model with the selected hyperparameters and get the validation accuracy\n",
        "    val_acc = DNN_model(n, d)[0]\n",
        "    # Store the hyperparameters and validation accuracy in the results list\n",
        "    results.append({'n': n, 'd': d, 'val_acc': val_acc})\n",
        "\n",
        "# Print the results in descending order of validation accuracy\n",
        "results_df = pd.DataFrame(results) # Convert the results list to a pandas dataframe\n",
        "results_df = results_df.sort_values('val_acc', ascending=False) # Sort the dataframe by validation accuracy\n",
        "print(results_df) # Print the results dataframe"
      ],
      "metadata": {
        "id": "q-XZnSO90hvw",
        "colab": {
          "base_uri": "https://localhost:8080/"
        },
        "outputId": "ab04589d-e126-416b-c3b1-19cafe269d2d"
      },
      "execution_count": 12,
      "outputs": [
        {
          "output_type": "stream",
          "name": "stdout",
          "text": [
            "     n    d   val_acc\n",
            "12   8  0.2  0.935323\n",
            "15  10  0.2  0.930348\n",
            "10  10  0.2  0.910448\n",
            "3    8  0.4  0.910448\n",
            "7    8  0.2  0.905473\n",
            "11   8  0.2  0.880597\n",
            "17  10  0.4  0.875622\n",
            "16  10  0.4  0.875622\n",
            "5    8  0.2  0.870647\n",
            "8   10  0.4  0.870647\n",
            "1   10  0.4  0.870647\n",
            "9    5  0.2  0.865672\n",
            "0   10  0.4  0.855721\n",
            "4   10  0.4  0.850746\n",
            "19   8  0.2  0.850746\n",
            "2    8  0.2  0.845771\n",
            "18   5  0.4  0.840796\n",
            "13   5  0.2  0.820895\n",
            "14   8  0.4  0.820895\n",
            "6    5  0.2  0.820895\n"
          ]
        }
      ]
    },
    {
      "cell_type": "markdown",
      "source": [
        "The best model turns out to be the one with n = 8 and d = 0.2, with 93,53% accuracy"
      ],
      "metadata": {
        "id": "XEXe4ukZ4yit"
      }
    },
    {
      "cell_type": "markdown",
      "source": [
        "##5. Using the best model and the test set provide performance metrics."
      ],
      "metadata": {
        "id": "8E0a54mT9u2o"
      }
    },
    {
      "cell_type": "markdown",
      "source": [
        "In the previous part we used the validation set to tune our hyperparameters and find the best model. Now that we know that the best model has 8 nodes and amount of callback equal to 0.2, this time we use the test set, in order to have unseen data ad a more fair prediction."
      ],
      "metadata": {
        "id": "gqAMp5g5Ayqk"
      }
    },
    {
      "cell_type": "code",
      "source": [
        "random.seed(42)\n",
        "# best model\n",
        "best_model = Sequential()\n",
        "best_model.add(Dense(8, input_shape=(input_shape_n,), activation='relu'))\n",
        "best_model.add(Dropout(0.2))\n",
        "best_model.add(Dense(4,activation='sigmoid'))\n",
        "\n",
        "# compile model\n",
        "best_model.compile(optimizer='Adam',\n",
        "              loss='categorical_crossentropy',\n",
        "              metrics=['accuracy'])\n",
        "#fit model\n",
        "model_history = best_model.fit(x=X_train_numerical,y=y_train,\n",
        "          batch_size=64,\n",
        "          epochs=50,\n",
        "          validation_data=(X_test_numerical, y_test),\n",
        "          verbose=0)\n",
        "\n",
        "print(best_model.summary())"
      ],
      "metadata": {
        "id": "NlVoTI8CGOer",
        "colab": {
          "base_uri": "https://localhost:8080/"
        },
        "outputId": "cb97e32c-82cd-4209-cb22-cbc538716116"
      },
      "execution_count": 13,
      "outputs": [
        {
          "output_type": "stream",
          "name": "stdout",
          "text": [
            "Model: \"sequential_20\"\n",
            "_________________________________________________________________\n",
            " Layer (type)                Output Shape              Param #   \n",
            "=================================================================\n",
            " dense_40 (Dense)            (None, 8)                 120       \n",
            "                                                                 \n",
            " dropout_20 (Dropout)        (None, 8)                 0         \n",
            "                                                                 \n",
            " dense_41 (Dense)            (None, 4)                 36        \n",
            "                                                                 \n",
            "=================================================================\n",
            "Total params: 156\n",
            "Trainable params: 156\n",
            "Non-trainable params: 0\n",
            "_________________________________________________________________\n",
            "None\n"
          ]
        }
      ]
    },
    {
      "cell_type": "code",
      "source": [
        "best_model.evaluate(X_train_numerical, y_train)"
      ],
      "metadata": {
        "colab": {
          "base_uri": "https://localhost:8080/"
        },
        "id": "qFnG4VKmQ3G0",
        "outputId": "61fa55c0-3020-4121-910a-fdace8083425"
      },
      "execution_count": 18,
      "outputs": [
        {
          "output_type": "stream",
          "name": "stdout",
          "text": [
            "42/42 [==============================] - 0s 2ms/step - loss: 0.3405 - accuracy: 0.8395\n"
          ]
        },
        {
          "output_type": "execute_result",
          "data": {
            "text/plain": [
              "[0.3404565751552582, 0.8394598364830017]"
            ]
          },
          "metadata": {},
          "execution_count": 18
        }
      ]
    },
    {
      "cell_type": "code",
      "source": [
        "best_model.evaluate(X_test_numerical, y_test)"
      ],
      "metadata": {
        "colab": {
          "base_uri": "https://localhost:8080/"
        },
        "id": "kUfPWaCERYit",
        "outputId": "3de5b2f5-8d5e-4d88-c995-788cea896cda"
      },
      "execution_count": 19,
      "outputs": [
        {
          "output_type": "stream",
          "name": "stdout",
          "text": [
            "15/15 [==============================] - 0s 3ms/step - loss: 0.3713 - accuracy: 0.8176\n"
          ]
        },
        {
          "output_type": "execute_result",
          "data": {
            "text/plain": [
              "[0.37127095460891724, 0.8175965547561646]"
            ]
          },
          "metadata": {},
          "execution_count": 19
        }
      ]
    },
    {
      "cell_type": "markdown",
      "source": [
        "This DNN model achieved a training accuracy of 83.95% and a test accuracy of 81.76%. The losses are respectively 0.3405 and 0.3713."
      ],
      "metadata": {
        "id": "I2sjjh00Rxz8"
      }
    },
    {
      "cell_type": "markdown",
      "source": [
        "We define a function to plot the loss and accuracy"
      ],
      "metadata": {
        "id": "2KzIJ2xTUDHD"
      }
    },
    {
      "cell_type": "code",
      "source": [
        "# function to plot the loss and accuracy\n",
        "def plot_loss_accuracy(model_history):\n",
        "    # Create subplots for loss and accuracy\n",
        "    fig, (ax1, ax2) = plt.subplots(1, 2, figsize=(15,6))\n",
        "    fig.suptitle(\"Training Metrics\")\n",
        "\n",
        "    # Plot the training and validation loss\n",
        "    ax1.plot(model_history.history['loss'], label='Training Loss')\n",
        "    ax1.plot(model_history.history['val_loss'], label='Validation Loss')\n",
        "    ax1.set_xlabel('Epoch')\n",
        "    ax1.set_ylabel('Loss')\n",
        "    ax1.legend()\n",
        "\n",
        "    # Plot the training and validation accuracy\n",
        "    ax2.plot(model_history.history['accuracy'], label='Training Accuracy')\n",
        "    ax2.plot(model_history.history['val_accuracy'], label='Test Accuracy')\n",
        "    ax2.set_xlabel('Epoch')\n",
        "    ax2.set_ylabel('Accuracy')\n",
        "    ax2.legend()\n",
        "\n",
        "    plt.show()\n"
      ],
      "metadata": {
        "id": "4jFAqpKr9s88"
      },
      "execution_count": 20,
      "outputs": []
    },
    {
      "cell_type": "code",
      "source": [
        "plot_loss_accuracy(model_history)"
      ],
      "metadata": {
        "id": "Vd9T9ZrB92eB",
        "colab": {
          "base_uri": "https://localhost:8080/",
          "height": 425
        },
        "outputId": "667ac05d-997e-48cc-c783-250f76efe6fc"
      },
      "execution_count": 21,
      "outputs": [
        {
          "output_type": "display_data",
          "data": {
            "text/plain": [
              "<Figure size 1500x600 with 2 Axes>"
            ],
            "image/png": "[encoded data removed]"
          },
          "metadata": {}
        }
      ]
    },
    {
      "cell_type": "markdown",
      "source": [
        "##6. Taking only the binary variables, implement an autoencoder (AE). Provide evidences of the quality of the coding obtained."
      ],
      "metadata": {
        "id": "TiuWbNf7fmKr"
      }
    },
    {
      "cell_type": "code",
      "source": [
        "random.seed(42)\n",
        "# Binary variables\n",
        "bin_vars = ['blue', 'dual_sim', 'four_g', 'three_g', 'touch_screen', 'wifi']\n",
        "X_train_binary = X_train[bin_vars]\n",
        "X_test_binary = X_test[bin_vars]\n",
        "\n",
        "\n",
        "# Define encoder\n",
        "inputs = Input(shape=(len(bin_vars),))\n",
        "x = Dense(16, activation='relu')(inputs)\n",
        "x = Dense(8, activation='relu')(x)\n",
        "latent = Dense(4, activation='relu')(x)\n",
        "encoder = Model(inputs, latent, name='encoder')\n",
        "\n",
        "# Define decoder\n",
        "x = Dense(8, activation='relu')(latent)\n",
        "x = Dense(16, activation='relu')(x)\n",
        "outputs = Dense(len(bin_vars), activation='sigmoid')(x)\n",
        "decoder = Model(latent, outputs, name='decoder')\n",
        "\n",
        "# Define autoencoder\n",
        "autoencoder = Model(inputs, decoder(encoder(inputs)), name='autoencoder')\n",
        "\n",
        "# Compile model\n",
        "autoencoder.compile(optimizer='adam', loss='binary_crossentropy')\n",
        "\n",
        "# Train model\n",
        "autoencoder.fit(X_train_binary, X_train_binary, epochs=50, batch_size=64,\n",
        "                validation_data=(X_test_binary, X_test_binary))\n"
      ],
      "metadata": {
        "id": "Wpp7J9MLgusV",
        "colab": {
          "base_uri": "https://localhost:8080/"
        },
        "outputId": "1be844f4-ee52-4ff8-e644-608edf162366"
      },
      "execution_count": 22,
      "outputs": [
        {
          "output_type": "stream",
          "name": "stdout",
          "text": [
            "Epoch 1/50\n",
            "21/21 [==============================] - 3s 13ms/step - loss: 0.6866 - val_loss: 0.6815\n",
            "Epoch 2/50\n",
            "21/21 [==============================] - 0s 6ms/step - loss: 0.6787 - val_loss: 0.6706\n",
            "Epoch 3/50\n",
            "21/21 [==============================] - 0s 6ms/step - loss: 0.6670 - val_loss: 0.6552\n",
            "Epoch 4/50\n",
            "21/21 [==============================] - 0s 7ms/step - loss: 0.6496 - val_loss: 0.6331\n",
            "Epoch 5/50\n",
            "21/21 [==============================] - 0s 6ms/step - loss: 0.6246 - val_loss: 0.6057\n",
            "Epoch 6/50\n",
            "21/21 [==============================] - 0s 6ms/step - loss: 0.6007 - val_loss: 0.5844\n",
            "Epoch 7/50\n",
            "21/21 [==============================] - 0s 6ms/step - loss: 0.5819 - val_loss: 0.5677\n",
            "Epoch 8/50\n",
            "21/21 [==============================] - 0s 7ms/step - loss: 0.5668 - val_loss: 0.5539\n",
            "Epoch 9/50\n",
            "21/21 [==============================] - 0s 6ms/step - loss: 0.5534 - val_loss: 0.5407\n",
            "Epoch 10/50\n",
            "21/21 [==============================] - 0s 6ms/step - loss: 0.5390 - val_loss: 0.5260\n",
            "Epoch 11/50\n",
            "21/21 [==============================] - 0s 6ms/step - loss: 0.5237 - val_loss: 0.5106\n",
            "Epoch 12/50\n",
            "21/21 [==============================] - 0s 6ms/step - loss: 0.5083 - val_loss: 0.4958\n",
            "Epoch 13/50\n",
            "21/21 [==============================] - 0s 6ms/step - loss: 0.4942 - val_loss: 0.4823\n",
            "Epoch 14/50\n",
            "21/21 [==============================] - 0s 8ms/step - loss: 0.4806 - val_loss: 0.4697\n",
            "Epoch 15/50\n",
            "21/21 [==============================] - 0s 6ms/step - loss: 0.4690 - val_loss: 0.4596\n",
            "Epoch 16/50\n",
            "21/21 [==============================] - 0s 6ms/step - loss: 0.4586 - val_loss: 0.4494\n",
            "Epoch 17/50\n",
            "21/21 [==============================] - 0s 6ms/step - loss: 0.4494 - val_loss: 0.4412\n",
            "Epoch 18/50\n",
            "21/21 [==============================] - 0s 6ms/step - loss: 0.4407 - val_loss: 0.4330\n",
            "Epoch 19/50\n",
            "21/21 [==============================] - 0s 6ms/step - loss: 0.4314 - val_loss: 0.4235\n",
            "Epoch 20/50\n",
            "21/21 [==============================] - 0s 6ms/step - loss: 0.4204 - val_loss: 0.4109\n",
            "Epoch 21/50\n",
            "21/21 [==============================] - 0s 6ms/step - loss: 0.4070 - val_loss: 0.3979\n",
            "Epoch 22/50\n",
            "21/21 [==============================] - 0s 6ms/step - loss: 0.3939 - val_loss: 0.3850\n",
            "Epoch 23/50\n",
            "21/21 [==============================] - 0s 6ms/step - loss: 0.3807 - val_loss: 0.3727\n",
            "Epoch 24/50\n",
            "21/21 [==============================] - 0s 6ms/step - loss: 0.3685 - val_loss: 0.3615\n",
            "Epoch 25/50\n",
            "21/21 [==============================] - 0s 7ms/step - loss: 0.3568 - val_loss: 0.3506\n",
            "Epoch 26/50\n",
            "21/21 [==============================] - 0s 6ms/step - loss: 0.3471 - val_loss: 0.3409\n",
            "Epoch 27/50\n",
            "21/21 [==============================] - 0s 6ms/step - loss: 0.3382 - val_loss: 0.3326\n",
            "Epoch 28/50\n",
            "21/21 [==============================] - 0s 6ms/step - loss: 0.3305 - val_loss: 0.3273\n",
            "Epoch 29/50\n",
            "21/21 [==============================] - 0s 5ms/step - loss: 0.3240 - val_loss: 0.3182\n",
            "Epoch 30/50\n",
            "21/21 [==============================] - 0s 6ms/step - loss: 0.3169 - val_loss: 0.3109\n",
            "Epoch 31/50\n",
            "21/21 [==============================] - 0s 6ms/step - loss: 0.3099 - val_loss: 0.3039\n",
            "Epoch 32/50\n",
            "21/21 [==============================] - 0s 6ms/step - loss: 0.3035 - val_loss: 0.2988\n",
            "Epoch 33/50\n",
            "21/21 [==============================] - 0s 6ms/step - loss: 0.2985 - val_loss: 0.2940\n",
            "Epoch 34/50\n",
            "21/21 [==============================] - 0s 6ms/step - loss: 0.2927 - val_loss: 0.2871\n",
            "Epoch 35/50\n",
            "21/21 [==============================] - 0s 6ms/step - loss: 0.2853 - val_loss: 0.2798\n",
            "Epoch 36/50\n",
            "21/21 [==============================] - 0s 6ms/step - loss: 0.2784 - val_loss: 0.2722\n",
            "Epoch 37/50\n",
            "21/21 [==============================] - 0s 7ms/step - loss: 0.2728 - val_loss: 0.2675\n",
            "Epoch 38/50\n",
            "21/21 [==============================] - 0s 6ms/step - loss: 0.2682 - val_loss: 0.2622\n",
            "Epoch 39/50\n",
            "21/21 [==============================] - 0s 6ms/step - loss: 0.2628 - val_loss: 0.2566\n",
            "Epoch 40/50\n",
            "21/21 [==============================] - 0s 6ms/step - loss: 0.2571 - val_loss: 0.2519\n",
            "Epoch 41/50\n",
            "21/21 [==============================] - 0s 7ms/step - loss: 0.2529 - val_loss: 0.2459\n",
            "Epoch 42/50\n",
            "21/21 [==============================] - 0s 7ms/step - loss: 0.2471 - val_loss: 0.2412\n",
            "Epoch 43/50\n",
            "21/21 [==============================] - 0s 6ms/step - loss: 0.2428 - val_loss: 0.2364\n",
            "Epoch 44/50\n",
            "21/21 [==============================] - 0s 6ms/step - loss: 0.2388 - val_loss: 0.2317\n",
            "Epoch 45/50\n",
            "21/21 [==============================] - 0s 6ms/step - loss: 0.2338 - val_loss: 0.2286\n",
            "Epoch 46/50\n",
            "21/21 [==============================] - 0s 6ms/step - loss: 0.2302 - val_loss: 0.2247\n",
            "Epoch 47/50\n",
            "21/21 [==============================] - 0s 6ms/step - loss: 0.2259 - val_loss: 0.2208\n",
            "Epoch 48/50\n",
            "21/21 [==============================] - 0s 7ms/step - loss: 0.2221 - val_loss: 0.2161\n",
            "Epoch 49/50\n",
            "21/21 [==============================] - 0s 6ms/step - loss: 0.2184 - val_loss: 0.2128\n",
            "Epoch 50/50\n",
            "21/21 [==============================] - 0s 6ms/step - loss: 0.2147 - val_loss: 0.2097\n"
          ]
        },
        {
          "output_type": "execute_result",
          "data": {
            "text/plain": [
              "<keras.callbacks.History at 0x7d9d8617ece0>"
            ]
          },
          "metadata": {},
          "execution_count": 22
        }
      ]
    },
    {
      "cell_type": "markdown",
      "source": [
        "##7. Extract the latent descriptors of train and test set, corresponding to the binary variables."
      ],
      "metadata": {
        "id": "68UlO-IyfmIB"
      }
    },
    {
      "cell_type": "code",
      "source": [
        "# Extracting latent descriptors for binary variables\n",
        "train_latent_binary = encoder.predict(X_train_binary)\n",
        "test_latent_binary = encoder.predict(X_test_binary)"
      ],
      "metadata": {
        "id": "KzW5Po-PlcGM",
        "colab": {
          "base_uri": "https://localhost:8080/"
        },
        "outputId": "1eed71d7-2aca-47f8-eb90-e044667c87f1"
      },
      "execution_count": 23,
      "outputs": [
        {
          "output_type": "stream",
          "name": "stdout",
          "text": [
            "42/42 [==============================] - 0s 2ms/step\n",
            "15/15 [==============================] - 0s 1ms/step\n"
          ]
        }
      ]
    },
    {
      "cell_type": "markdown",
      "source": [
        "##8. Build and fit a DNN to predict the price_range that integrates the numerical variables and the latent descriptors for binary variables you found in (7)."
      ],
      "metadata": {
        "id": "6WhDyOROfmFM"
      }
    },
    {
      "cell_type": "code",
      "source": [
        "len(num_vars)"
      ],
      "metadata": {
        "id": "RdKoMl1GB6lH",
        "colab": {
          "base_uri": "https://localhost:8080/"
        },
        "outputId": "55d7dd79-f6bc-4fc3-81d2-ff717f9becf9"
      },
      "execution_count": 24,
      "outputs": [
        {
          "output_type": "execute_result",
          "data": {
            "text/plain": [
              "14"
            ]
          },
          "metadata": {},
          "execution_count": 24
        }
      ]
    },
    {
      "cell_type": "code",
      "source": [
        "random.seed(42)\n",
        "# define the input layers\n",
        "numerical_input = Input(shape=(len(num_vars),))\n",
        "binary_input = Input(shape=(len(bin_vars),))\n",
        "\n",
        "# Hidden layers for numerical input\n",
        "num_hidden = Dense(64, activation='relu')(numerical_input)\n",
        "num_hidden = Dense(32, activation='relu')(num_hidden)\n",
        "\n",
        "# Hidden layers for binary input\n",
        "bin_hidden = Dense(32, activation='relu')(binary_input)\n",
        "bin_hidden = Dense(16, activation='relu')(bin_hidden)\n",
        "\n",
        "# concatenate the numerical and binary hidden layers\n",
        "concat = Concatenate()([num_hidden, bin_hidden])\n",
        "\n",
        "# define the output layer\n",
        "output = Dense(4, activation='softmax')(concat)\n",
        "\n",
        "# define the model\n",
        "num_lat_model = Model(inputs=[numerical_input, binary_input], outputs=output)\n",
        "\n",
        "# compile the model\n",
        "num_lat_model.compile(optimizer='adam', loss='categorical_crossentropy', metrics=['accuracy'])\n",
        "\n",
        "# fit the model\n",
        "num_lat_model_history = num_lat_model.fit([X_train_numerical, X_train_binary], y_train, epochs=50, batch_size=64, validation_data=([X_test_numerical, X_test_binary], y_test))\n",
        "\n",
        "print(num_lat_model.summary())"
      ],
      "metadata": {
        "id": "n3tFYaFKl77j",
        "colab": {
          "base_uri": "https://localhost:8080/"
        },
        "outputId": "7ff53f8a-2a7a-4aac-d8c8-2c2639b9448b"
      },
      "execution_count": 25,
      "outputs": [
        {
          "output_type": "stream",
          "name": "stdout",
          "text": [
            "Epoch 1/50\n",
            "21/21 [==============================] - 2s 21ms/step - loss: 1.2445 - accuracy: 0.4741 - val_loss: 0.9657 - val_accuracy: 0.7146\n",
            "Epoch 2/50\n",
            "21/21 [==============================] - 0s 10ms/step - loss: 0.7501 - accuracy: 0.7517 - val_loss: 0.6623 - val_accuracy: 0.7146\n",
            "Epoch 3/50\n",
            "21/21 [==============================] - 0s 9ms/step - loss: 0.5558 - accuracy: 0.7509 - val_loss: 0.5481 - val_accuracy: 0.7167\n",
            "Epoch 4/50\n",
            "21/21 [==============================] - 0s 11ms/step - loss: 0.4810 - accuracy: 0.7599 - val_loss: 0.4816 - val_accuracy: 0.7597\n",
            "Epoch 5/50\n",
            "21/21 [==============================] - 0s 10ms/step - loss: 0.4195 - accuracy: 0.8065 - val_loss: 0.4154 - val_accuracy: 0.8391\n",
            "Epoch 6/50\n",
            "21/21 [==============================] - 0s 10ms/step - loss: 0.3627 - accuracy: 0.8605 - val_loss: 0.3592 - val_accuracy: 0.8627\n",
            "Epoch 7/50\n",
            "21/21 [==============================] - 0s 11ms/step - loss: 0.3143 - accuracy: 0.8965 - val_loss: 0.3171 - val_accuracy: 0.8734\n",
            "Epoch 8/50\n",
            "21/21 [==============================] - 0s 11ms/step - loss: 0.2766 - accuracy: 0.8987 - val_loss: 0.2771 - val_accuracy: 0.8906\n",
            "Epoch 9/50\n",
            "21/21 [==============================] - 0s 9ms/step - loss: 0.2459 - accuracy: 0.9130 - val_loss: 0.2480 - val_accuracy: 0.9185\n",
            "Epoch 10/50\n",
            "21/21 [==============================] - 0s 9ms/step - loss: 0.2218 - accuracy: 0.9205 - val_loss: 0.2271 - val_accuracy: 0.9077\n",
            "Epoch 11/50\n",
            "21/21 [==============================] - 0s 9ms/step - loss: 0.2041 - accuracy: 0.9205 - val_loss: 0.2054 - val_accuracy: 0.9206\n",
            "Epoch 12/50\n",
            "21/21 [==============================] - 0s 11ms/step - loss: 0.1900 - accuracy: 0.9272 - val_loss: 0.1983 - val_accuracy: 0.9163\n",
            "Epoch 13/50\n",
            "21/21 [==============================] - 0s 11ms/step - loss: 0.1799 - accuracy: 0.9302 - val_loss: 0.1947 - val_accuracy: 0.9185\n",
            "Epoch 14/50\n",
            "21/21 [==============================] - 0s 11ms/step - loss: 0.1669 - accuracy: 0.9340 - val_loss: 0.1762 - val_accuracy: 0.9227\n",
            "Epoch 15/50\n",
            "21/21 [==============================] - 0s 11ms/step - loss: 0.1598 - accuracy: 0.9460 - val_loss: 0.1555 - val_accuracy: 0.9528\n",
            "Epoch 16/50\n",
            "21/21 [==============================] - 0s 9ms/step - loss: 0.1444 - accuracy: 0.9482 - val_loss: 0.1489 - val_accuracy: 0.9442\n",
            "Epoch 17/50\n",
            "21/21 [==============================] - 0s 10ms/step - loss: 0.1363 - accuracy: 0.9572 - val_loss: 0.1545 - val_accuracy: 0.9356\n",
            "Epoch 18/50\n",
            "21/21 [==============================] - 0s 7ms/step - loss: 0.1287 - accuracy: 0.9602 - val_loss: 0.1352 - val_accuracy: 0.9549\n",
            "Epoch 19/50\n",
            "21/21 [==============================] - 0s 6ms/step - loss: 0.1217 - accuracy: 0.9595 - val_loss: 0.1262 - val_accuracy: 0.9635\n",
            "Epoch 20/50\n",
            "21/21 [==============================] - 0s 7ms/step - loss: 0.1187 - accuracy: 0.9662 - val_loss: 0.1306 - val_accuracy: 0.9485\n",
            "Epoch 21/50\n",
            "21/21 [==============================] - 0s 6ms/step - loss: 0.1129 - accuracy: 0.9587 - val_loss: 0.1156 - val_accuracy: 0.9678\n",
            "Epoch 22/50\n",
            "21/21 [==============================] - 0s 6ms/step - loss: 0.1037 - accuracy: 0.9730 - val_loss: 0.1127 - val_accuracy: 0.9635\n",
            "Epoch 23/50\n",
            "21/21 [==============================] - 0s 6ms/step - loss: 0.1004 - accuracy: 0.9692 - val_loss: 0.1087 - val_accuracy: 0.9657\n",
            "Epoch 24/50\n",
            "21/21 [==============================] - 0s 6ms/step - loss: 0.0976 - accuracy: 0.9722 - val_loss: 0.1041 - val_accuracy: 0.9721\n",
            "Epoch 25/50\n",
            "21/21 [==============================] - 0s 7ms/step - loss: 0.0910 - accuracy: 0.9752 - val_loss: 0.1128 - val_accuracy: 0.9549\n",
            "Epoch 26/50\n",
            "21/21 [==============================] - 0s 6ms/step - loss: 0.0899 - accuracy: 0.9730 - val_loss: 0.0959 - val_accuracy: 0.9700\n",
            "Epoch 27/50\n",
            "21/21 [==============================] - 0s 6ms/step - loss: 0.0824 - accuracy: 0.9812 - val_loss: 0.0987 - val_accuracy: 0.9678\n",
            "Epoch 28/50\n",
            "21/21 [==============================] - 0s 8ms/step - loss: 0.0795 - accuracy: 0.9775 - val_loss: 0.0995 - val_accuracy: 0.9700\n",
            "Epoch 29/50\n",
            "21/21 [==============================] - 0s 7ms/step - loss: 0.0807 - accuracy: 0.9760 - val_loss: 0.1044 - val_accuracy: 0.9528\n",
            "Epoch 30/50\n",
            "21/21 [==============================] - 0s 6ms/step - loss: 0.0779 - accuracy: 0.9767 - val_loss: 0.0913 - val_accuracy: 0.9657\n",
            "Epoch 31/50\n",
            "21/21 [==============================] - 0s 6ms/step - loss: 0.0718 - accuracy: 0.9812 - val_loss: 0.0857 - val_accuracy: 0.9700\n",
            "Epoch 32/50\n",
            "21/21 [==============================] - 0s 7ms/step - loss: 0.0681 - accuracy: 0.9850 - val_loss: 0.0864 - val_accuracy: 0.9721\n",
            "Epoch 33/50\n",
            "21/21 [==============================] - 0s 6ms/step - loss: 0.0659 - accuracy: 0.9872 - val_loss: 0.0909 - val_accuracy: 0.9635\n",
            "Epoch 34/50\n",
            "21/21 [==============================] - 0s 6ms/step - loss: 0.0657 - accuracy: 0.9805 - val_loss: 0.0938 - val_accuracy: 0.9657\n",
            "Epoch 35/50\n",
            "21/21 [==============================] - 0s 7ms/step - loss: 0.0638 - accuracy: 0.9827 - val_loss: 0.0776 - val_accuracy: 0.9785\n",
            "Epoch 36/50\n",
            "21/21 [==============================] - 0s 6ms/step - loss: 0.0586 - accuracy: 0.9932 - val_loss: 0.0761 - val_accuracy: 0.9742\n",
            "Epoch 37/50\n",
            "21/21 [==============================] - 0s 6ms/step - loss: 0.0631 - accuracy: 0.9805 - val_loss: 0.0784 - val_accuracy: 0.9721\n",
            "Epoch 38/50\n",
            "21/21 [==============================] - 0s 10ms/step - loss: 0.0594 - accuracy: 0.9842 - val_loss: 0.0740 - val_accuracy: 0.9764\n",
            "Epoch 39/50\n",
            "21/21 [==============================] - 0s 13ms/step - loss: 0.0553 - accuracy: 0.9902 - val_loss: 0.0732 - val_accuracy: 0.9721\n",
            "Epoch 40/50\n",
            "21/21 [==============================] - 0s 12ms/step - loss: 0.0537 - accuracy: 0.9895 - val_loss: 0.0978 - val_accuracy: 0.9485\n",
            "Epoch 41/50\n",
            "21/21 [==============================] - 0s 10ms/step - loss: 0.0568 - accuracy: 0.9812 - val_loss: 0.0704 - val_accuracy: 0.9764\n",
            "Epoch 42/50\n",
            "21/21 [==============================] - 0s 11ms/step - loss: 0.0512 - accuracy: 0.9865 - val_loss: 0.0696 - val_accuracy: 0.9764\n",
            "Epoch 43/50\n",
            "21/21 [==============================] - 0s 12ms/step - loss: 0.0494 - accuracy: 0.9887 - val_loss: 0.0670 - val_accuracy: 0.9742\n",
            "Epoch 44/50\n",
            "21/21 [==============================] - 0s 13ms/step - loss: 0.0478 - accuracy: 0.9917 - val_loss: 0.0663 - val_accuracy: 0.9807\n",
            "Epoch 45/50\n",
            "21/21 [==============================] - 0s 12ms/step - loss: 0.0468 - accuracy: 0.9917 - val_loss: 0.0670 - val_accuracy: 0.9742\n",
            "Epoch 46/50\n",
            "21/21 [==============================] - 0s 13ms/step - loss: 0.0463 - accuracy: 0.9902 - val_loss: 0.0661 - val_accuracy: 0.9764\n",
            "Epoch 47/50\n",
            "21/21 [==============================] - 0s 15ms/step - loss: 0.0445 - accuracy: 0.9925 - val_loss: 0.0680 - val_accuracy: 0.9721\n",
            "Epoch 48/50\n",
            "21/21 [==============================] - 0s 15ms/step - loss: 0.0433 - accuracy: 0.9940 - val_loss: 0.0628 - val_accuracy: 0.9742\n",
            "Epoch 49/50\n",
            "21/21 [==============================] - 0s 13ms/step - loss: 0.0408 - accuracy: 0.9947 - val_loss: 0.0649 - val_accuracy: 0.9742\n",
            "Epoch 50/50\n",
            "21/21 [==============================] - 0s 15ms/step - loss: 0.0403 - accuracy: 0.9955 - val_loss: 0.0657 - val_accuracy: 0.9742\n",
            "Model: \"model\"\n",
            "__________________________________________________________________________________________________\n",
            " Layer (type)                   Output Shape         Param #     Connected to                     \n",
            "==================================================================================================\n",
            " input_3 (InputLayer)           [(None, 14)]         0           []                               \n",
            "                                                                                                  \n",
            " input_4 (InputLayer)           [(None, 6)]          0           []                               \n",
            "                                                                                                  \n",
            " dense_48 (Dense)               (None, 64)           960         ['input_3[0][0]']                \n",
            "                                                                                                  \n",
            " dense_50 (Dense)               (None, 32)           224         ['input_4[0][0]']                \n",
            "                                                                                                  \n",
            " dense_49 (Dense)               (None, 32)           2080        ['dense_48[0][0]']               \n",
            "                                                                                                  \n",
            " dense_51 (Dense)               (None, 16)           528         ['dense_50[0][0]']               \n",
            "                                                                                                  \n",
            " concatenate (Concatenate)      (None, 48)           0           ['dense_49[0][0]',               \n",
            "                                                                  'dense_51[0][0]']               \n",
            "                                                                                                  \n",
            " dense_52 (Dense)               (None, 4)            196         ['concatenate[0][0]']            \n",
            "                                                                                                  \n",
            "==================================================================================================\n",
            "Total params: 3,988\n",
            "Trainable params: 3,988\n",
            "Non-trainable params: 0\n",
            "__________________________________________________________________________________________________\n",
            "None\n"
          ]
        }
      ]
    },
    {
      "cell_type": "code",
      "source": [
        "num_lat_model.evaluate([X_train_numerical, X_train_binary], y_train)"
      ],
      "metadata": {
        "colab": {
          "base_uri": "https://localhost:8080/"
        },
        "id": "aRtY3RtJTIaJ",
        "outputId": "badd552a-017a-4a39-ba32-a5c32c4e3e63"
      },
      "execution_count": 26,
      "outputs": [
        {
          "output_type": "stream",
          "name": "stdout",
          "text": [
            "42/42 [==============================] - 0s 3ms/step - loss: 0.0388 - accuracy: 0.9962\n"
          ]
        },
        {
          "output_type": "execute_result",
          "data": {
            "text/plain": [
              "[0.03875736892223358, 0.9962490797042847]"
            ]
          },
          "metadata": {},
          "execution_count": 26
        }
      ]
    },
    {
      "cell_type": "code",
      "source": [
        "num_lat_model.evaluate([X_test_numerical, X_test_binary], y_test)"
      ],
      "metadata": {
        "colab": {
          "base_uri": "https://localhost:8080/"
        },
        "id": "xmUX9BIuTfSP",
        "outputId": "4106c4c2-fe84-4e29-d1b3-80022249c63d"
      },
      "execution_count": 27,
      "outputs": [
        {
          "output_type": "stream",
          "name": "stdout",
          "text": [
            "15/15 [==============================] - 0s 3ms/step - loss: 0.0657 - accuracy: 0.9742\n"
          ]
        },
        {
          "output_type": "execute_result",
          "data": {
            "text/plain": [
              "[0.06568760424852371, 0.9742489457130432]"
            ]
          },
          "metadata": {},
          "execution_count": 27
        }
      ]
    },
    {
      "cell_type": "markdown",
      "source": [
        "The new DNN model that integrates numerical variables and the latent descriptors of the binary ones reaches a training accuracy of 99.62% and a test accuracy of 97.42%. The improvement on the train and test loss is also notable with respectively 0.039 and 0.066."
      ],
      "metadata": {
        "id": "EAGrvZR-TqdD"
      }
    },
    {
      "cell_type": "markdown",
      "source": [
        "##9. Using the test set provide performance metrics."
      ],
      "metadata": {
        "id": "p4aUKQhTfmAw"
      }
    },
    {
      "cell_type": "code",
      "source": [
        "plot_loss_accuracy(num_lat_model_history)"
      ],
      "metadata": {
        "id": "CzTT6qCT-ACU",
        "colab": {
          "base_uri": "https://localhost:8080/",
          "height": 425
        },
        "outputId": "15c9b823-78fe-47ac-9172-161a896745e9"
      },
      "execution_count": 28,
      "outputs": [
        {
          "output_type": "display_data",
          "data": {
            "text/plain": [
              "<Figure size 1500x600 with 2 Axes>"
            ],
            "image/png": "[encoded data removed]"
          },
          "metadata": {}
        }
      ]
    },
    {
      "cell_type": "markdown",
      "source": [
        "##10. Discuss the results of the analysis."
      ],
      "metadata": {
        "id": "0l1D44-Zfl4H"
      }
    },
    {
      "cell_type": "markdown",
      "source": [
        "In this analysis, we aimed to predict the price range of mobile phones using a combination of numerical and binary variables. We split the dataset into 2/3 for training and 1/3 for testing, and additionally took a 30% of the testing set as validation test for the hypertuning. We trained a dense neural network using only the numerical variables. Through hyperparameter tuning, we found that a DNN with a single hidden layer with 8 nodes and a dropout of 0.2 yielded the best results. This DNN model achieved a training accuracy of 83.95% and a test accuracy of 81.76%. The losses were respectively 0.3405 and 0.3713.\n",
        "\n",
        "Next, we implemented an autoencoder using only the binary variables. We extracted the latent descriptors of the train and test sets corresponding to the binary variables. We used these latent descriptors and the numerical variables to build and fit a second DNN model to predict the price range. This model achieved a training loss of 0.0388 and a training accuracy of 99.62%, while the validation loss was 0.0657 and the test accuracy was 97.42%.\n",
        "\n",
        "Overall, our analysis shows that combining both numerical and binary variables can significantly improve the accuracy of predicting the price range of mobile phones. The use of an autoencoder to extract the latent descriptors of binary variables proved to be effective, and the combination of these descriptors with numerical variables led to a highly accurate model for predicting price range."
      ],
      "metadata": {
        "id": "oDMdXKlxHK86"
      }
    }
  ]
}